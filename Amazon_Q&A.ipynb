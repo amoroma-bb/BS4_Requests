{
 "cells": [
  {
   "cell_type": "code",
   "execution_count": 1,
   "metadata": {},
   "outputs": [],
   "source": [
    "from bs4 import BeautifulSoup\n",
    "import requests"
   ]
  },
  {
   "cell_type": "code",
   "execution_count": 2,
   "metadata": {},
   "outputs": [
    {
     "data": {
      "text/plain": [
       "200"
      ]
     },
     "execution_count": 2,
     "metadata": {},
     "output_type": "execute_result"
    }
   ],
   "source": [
    "# Bayer Tapeworm Dewormer URL\n",
    "\n",
    "url = 'https://www.amazon.com/ask/questions/asin/B019CD4ZDS/1/ref=ask_ql_psf_ql_hza?isAnswered=true'\n",
    "url_requests = requests.get(url)\n",
    "url_requests.status_code"
   ]
  },
  {
   "cell_type": "code",
   "execution_count": 18,
   "metadata": {},
   "outputs": [],
   "source": [
    "# html parser\n",
    "soup = BeautifulSoup(url_requests.text, 'html.parser')\n",
    "# lxml parser\n",
    "soup_lxml = BeautifulSoup(url_requests.text, 'lxml')\n"
   ]
  },
  {
   "cell_type": "code",
   "execution_count": 19,
   "metadata": {},
   "outputs": [],
   "source": [
    "qa = soup.find('div', class_='a-section askQuestionListPage').find('div', class_='a-section askTeaserQuestions').find_all('div', class_='a-fixed-left-grid a-spacing-base')\n",
    "qa_l = soup_lxml.find('div', class_='a-section askQuestionListPage').find('div', class_='a-section askTeaserQuestions').find_all('div', class_='a-fixed-left-grid a-spacing-base')"
   ]
  },
  {
   "cell_type": "code",
   "execution_count": 5,
   "metadata": {},
   "outputs": [
    {
     "name": "stdout",
     "output_type": "stream",
     "text": [
      "1: my cat refuses to eat food with the crushed pill,  it tastes bad to her. How do you  get the pill in her?\n",
      "2: How quickly does this kill the tapeworms?\n",
      "3: I have 2 cats do I have to buy a bottle for each?\n",
      "4: Do the bottles not come with a protective seal on them?\n",
      "5: Where is this product manufactured?\n",
      "6: how do you know it works? Did the tapeworm dead inside of cats' stomach? would I see the dead tapeworm in cats' poopp?\n",
      "7: Will this kill both tapeworms and roundworms? Or do I need a different pill for each?\n",
      "8: How many times should I give the pill to my cat?\n",
      "9: difference betweed cat and dog med\n",
      "10: Can someone please post a picture of the pill next to say a dime or a baby aspirin or something for comparison?\n"
     ]
    }
   ],
   "source": [
    "# Scrap the Question\n",
    "for i in range(0,len(qa),2):\n",
    "    print(str(int(i/2+1))+': ' + qa[i].find('div',class_='a-fixed-left-grid-col a-col-right').find('a', class_='a-link-normal').find('span', class_='a-declarative').get_text().strip())"
   ]
  },
  {
   "cell_type": "code",
   "execution_count": 22,
   "metadata": {},
   "outputs": [
    {
     "data": {
      "text/plain": [
       "\"Very quickly but it's recommended by my vet to do a second dose 2 weeks later.  \\rI have no problems administering pills/capsules of anything if I use, depending on the kitty's preference, chicken, fish, or BACON (most seem to truly love bacon flavor) flavored pill wraps (available as a paste on Amazon!).\""
      ]
     },
     "execution_count": 22,
     "metadata": {},
     "output_type": "execute_result"
    }
   ],
   "source": [
    "# Scrap the Answer \n",
    "\n",
    "qa[3].find('div',class_='a-fixed-left-grid-col a-col-right').find('span').get_text()"
   ]
  },
  {
   "cell_type": "code",
   "execution_count": 23,
   "metadata": {},
   "outputs": [
    {
     "data": {
      "text/plain": [
       "\"Very quickly but it's recommended by my vet to do a second dose 2 weeks later.  \\rI have no problems administering pills/capsules of anything if I use, depending on the kitty's preference, chicken, fish, or BACON (most seem to truly love bacon flavor) flavored pill wraps (available as a paste on Amazon!).\""
      ]
     },
     "execution_count": 23,
     "metadata": {},
     "output_type": "execute_result"
    }
   ],
   "source": [
    "# lxml parser \n",
    "qa_l[3].find('div',class_='a-fixed-left-grid-col a-col-right').find('span').get_text()"
   ]
  },
  {
   "cell_type": "code",
   "execution_count": 32,
   "metadata": {},
   "outputs": [
    {
     "data": {
      "text/plain": [
       "\"Very quickly but it's recommended by my vet to do a second dose 2 weeks later.  I have no problems administering pills/capsules of anything if I use, depending on the kitty's preference, chicken, fish, or BACON (most seem to truly love bacon flavor) flavored pill wraps (available as a paste on Amazon!).\""
      ]
     },
     "execution_count": 32,
     "metadata": {},
     "output_type": "execute_result"
    }
   ],
   "source": [
    "qa_l[3].find('div',class_='a-fixed-left-grid-col a-col-right').find('span').get_text().replace('\\r', '')"
   ]
  },
  {
   "cell_type": "code",
   "execution_count": null,
   "metadata": {},
   "outputs": [],
   "source": []
  }
 ],
 "metadata": {
  "interpreter": {
   "hash": "90028c94590298b63d2bae6c0746a7e76a66c0c12a099857e1fe16e3285a4618"
  },
  "kernelspec": {
   "display_name": "Python 3.9.6 64-bit",
   "name": "python3"
  },
  "language_info": {
   "codemirror_mode": {
    "name": "ipython",
    "version": 3
   },
   "file_extension": ".py",
   "mimetype": "text/x-python",
   "name": "python",
   "nbconvert_exporter": "python",
   "pygments_lexer": "ipython3",
   "version": "3.9.6"
  },
  "orig_nbformat": 4
 },
 "nbformat": 4,
 "nbformat_minor": 2
}
