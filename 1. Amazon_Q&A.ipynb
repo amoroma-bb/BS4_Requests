{
 "cells": [
  {
   "cell_type": "code",
   "execution_count": 75,
   "metadata": {},
   "outputs": [],
   "source": [
    "from bs4 import BeautifulSoup\n",
    "import requests\n",
    "import time\n",
    "from fake_useragent import UserAgent"
   ]
  },
  {
   "cell_type": "code",
   "execution_count": 77,
   "metadata": {},
   "outputs": [],
   "source": [
    "headers = {'User-Agent': 'Mozilla/5.0 (Macintosh; Intel Mac OS X 10_10_1) AppleWebKit/537.36 (KHTML, like Gecko) Chrome/39.0.2171.95 Safari/537.36'}\n",
    "ua=UserAgent()\n",
    "hdr = {'User-Agent': ua.random,\n",
    "      'Accept': 'text/html,application/xhtml+xml,application/xml;q=0.9,*/*;q=0.8',\n",
    "      'Accept-Charset': 'ISO-8859-1,utf-8;q=0.7,*;q=0.3',\n",
    "      'Accept-Encoding': 'none',\n",
    "      'Accept-Language': 'en-US,en;q=0.8',\n",
    "      'Connection': 'keep-alive'}"
   ]
  },
  {
   "cell_type": "code",
   "execution_count": 3,
   "metadata": {},
   "outputs": [
    {
     "data": {
      "text/plain": [
       "200"
      ]
     },
     "execution_count": 3,
     "metadata": {},
     "output_type": "execute_result"
    }
   ],
   "source": [
    "# Bayer Tapeworm Dewormer URL\n",
    "\n",
    "url = 'https://www.amazon.com/ask/questions/asin/B019CD4ZDS/1/ref=ask_ql_psf_ql_hza?isAnswered=true'\n",
    "url_requests = requests.get(url)\n",
    "url_requests.status_code"
   ]
  },
  {
   "cell_type": "code",
   "execution_count": 4,
   "metadata": {},
   "outputs": [],
   "source": [
    "# html parser\n",
    "soup = BeautifulSoup(url_requests.text, 'html.parser')\n",
    "# lxml parser\n",
    "soup_lxml = BeautifulSoup(url_requests.text, 'lxml')\n"
   ]
  },
  {
   "cell_type": "code",
   "execution_count": 5,
   "metadata": {},
   "outputs": [],
   "source": [
    "qa = soup.find('div', class_='a-section askQuestionListPage').find('div', class_='a-section askTeaserQuestions').find_all('div', class_='a-fixed-left-grid a-spacing-base')\n",
    "qa_l = soup_lxml.find('div', class_='a-section askQuestionListPage').find('div', class_='a-section askTeaserQuestions').find_all('div', class_='a-fixed-left-grid a-spacing-base')"
   ]
  },
  {
   "cell_type": "code",
   "execution_count": 6,
   "metadata": {},
   "outputs": [
    {
     "name": "stdout",
     "output_type": "stream",
     "text": [
      "1: my cat refuses to eat food with the crushed pill,  it tastes bad to her. How do you  get the pill in her?\n",
      "2: How quickly does this kill the tapeworms?\n",
      "3: I have 2 cats do I have to buy a bottle for each?\n",
      "4: Do the bottles not come with a protective seal on them?\n",
      "5: Where is this product manufactured?\n",
      "6: how do you know it works? Did the tapeworm dead inside of cats' stomach? would I see the dead tapeworm in cats' poopp?\n",
      "7: Will this kill both tapeworms and roundworms? Or do I need a different pill for each?\n",
      "8: How many times should I give the pill to my cat?\n",
      "9: difference betweed cat and dog med\n",
      "10: Can someone please post a picture of the pill next to say a dime or a baby aspirin or something for comparison?\n"
     ]
    }
   ],
   "source": [
    "# Scrap the Question\n",
    "for i in range(0,len(qa),2):\n",
    "    print(str(int(i/2+1))+': ' + qa[i].find('div',class_='a-fixed-left-grid-col a-col-right').find('a', class_='a-link-normal').find('span', class_='a-declarative').get_text().strip())"
   ]
  },
  {
   "cell_type": "code",
   "execution_count": 7,
   "metadata": {},
   "outputs": [
    {
     "data": {
      "text/plain": [
       "\"Very quickly but it's recommended by my vet to do a second dose 2 weeks later.  \\rI have no problems administering pills/capsules of anything if I use, depending on the kitty's preference, chicken, fish, or BACON (most seem to truly love bacon flavor) flavored pill wraps (available as a paste on Amazon!).\""
      ]
     },
     "execution_count": 7,
     "metadata": {},
     "output_type": "execute_result"
    }
   ],
   "source": [
    "# Scrap the Answer \n",
    "\n",
    "qa[3].find('div',class_='a-fixed-left-grid-col a-col-right').find('span').get_text()"
   ]
  },
  {
   "cell_type": "code",
   "execution_count": 8,
   "metadata": {},
   "outputs": [
    {
     "data": {
      "text/plain": [
       "\"Very quickly but it's recommended by my vet to do a second dose 2 weeks later.  \\rI have no problems administering pills/capsules of anything if I use, depending on the kitty's preference, chicken, fish, or BACON (most seem to truly love bacon flavor) flavored pill wraps (available as a paste on Amazon!).\""
      ]
     },
     "execution_count": 8,
     "metadata": {},
     "output_type": "execute_result"
    }
   ],
   "source": [
    "# lxml parser \n",
    "qa_l[3].find('div',class_='a-fixed-left-grid-col a-col-right').find('span').get_text()"
   ]
  },
  {
   "cell_type": "code",
   "execution_count": 9,
   "metadata": {},
   "outputs": [
    {
     "data": {
      "text/plain": [
       "\"Very quickly but it's recommended by my vet to do a second dose 2 weeks later.  I have no problems administering pills/capsules of anything if I use, depending on the kitty's preference, chicken, fish, or BACON (most seem to truly love bacon flavor) flavored pill wraps (available as a paste on Amazon!).\""
      ]
     },
     "execution_count": 9,
     "metadata": {},
     "output_type": "execute_result"
    }
   ],
   "source": [
    "qa_l[3].find('div',class_='a-fixed-left-grid-col a-col-right').find('span').get_text().replace('\\r', '')"
   ]
  },
  {
   "cell_type": "code",
   "execution_count": 10,
   "metadata": {},
   "outputs": [
    {
     "name": "stdout",
     "output_type": "stream",
     "text": [
      "1: my cat refuses to eat food with the crushed pill,  it tastes bad to her. How do you  get the pill in her?\n",
      "2: How quickly does this kill the tapeworms?\n",
      "3: I have 2 cats do I have to buy a bottle for each?\n",
      "4: Do the bottles not come with a protective seal on them?\n",
      "5: Where is this product manufactured?\n",
      "6: how do you know it works? Did the tapeworm dead inside of cats' stomach? would I see the dead tapeworm in cats' poopp?\n",
      "7: Will this kill both tapeworms and roundworms? Or do I need a different pill for each?\n",
      "8: How many times should I give the pill to my cat?\n",
      "9: difference betweed cat and dog med\n",
      "10: Can someone please post a picture of the pill next to say a dime or a baby aspirin or something for comparison?\n"
     ]
    }
   ],
   "source": [
    "for i in range(0,len(qa),2):\n",
    "    print(str(int(i/2+1))+': ' + qa[i].find('div',class_='a-fixed-left-grid-col a-col-right').find('a', class_='a-link-normal').find('span', class_='a-declarative').get_text().strip())"
   ]
  },
  {
   "cell_type": "code",
   "execution_count": 16,
   "metadata": {},
   "outputs": [
    {
     "data": {
      "text/plain": [
       "'https://www.amazon.com/ask/questions/asin/B019CD4ZDS/2/ref=ask_ql_psf_ql_hza?isAnswered=true'"
      ]
     },
     "execution_count": 16,
     "metadata": {},
     "output_type": "execute_result"
    }
   ],
   "source": [
    "next_page = soup.find('li', class_='a-last').find('a', href=True)['href']\n",
    "next_page = 'https://www.amazon.com' + next_page\n",
    "next_page"
   ]
  },
  {
   "cell_type": "code",
   "execution_count": 17,
   "metadata": {},
   "outputs": [
    {
     "data": {
      "text/plain": [
       "200"
      ]
     },
     "execution_count": 17,
     "metadata": {},
     "output_type": "execute_result"
    }
   ],
   "source": [
    "a = requests.get(next_page)\n",
    "a.status_code"
   ]
  },
  {
   "cell_type": "code",
   "execution_count": 79,
   "metadata": {},
   "outputs": [
    {
     "name": "stdout",
     "output_type": "stream",
     "text": [
      "0\n",
      "1\n",
      "2\n",
      "3\n",
      "4\n",
      "5\n",
      "6\n",
      "7\n"
     ]
    },
    {
     "ename": "AttributeError",
     "evalue": "'NoneType' object has no attribute 'find'",
     "output_type": "error",
     "traceback": [
      "\u001b[1;31m---------------------------------------------------------------------------\u001b[0m",
      "\u001b[1;31mAttributeError\u001b[0m                            Traceback (most recent call last)",
      "\u001b[1;32m~\\AppData\\Local\\Temp/ipykernel_11052/3178372871.py\u001b[0m in \u001b[0;36m<module>\u001b[1;34m\u001b[0m\n\u001b[0;32m     11\u001b[0m     \u001b[0mprint\u001b[0m\u001b[1;33m(\u001b[0m\u001b[0mi\u001b[0m\u001b[1;33m)\u001b[0m\u001b[1;33m\u001b[0m\u001b[1;33m\u001b[0m\u001b[0m\n\u001b[0;32m     12\u001b[0m     \u001b[0mtime\u001b[0m\u001b[1;33m.\u001b[0m\u001b[0msleep\u001b[0m\u001b[1;33m(\u001b[0m\u001b[1;36m1\u001b[0m\u001b[1;33m)\u001b[0m\u001b[1;33m\u001b[0m\u001b[1;33m\u001b[0m\u001b[0m\n\u001b[1;32m---> 13\u001b[1;33m     \u001b[0mqa\u001b[0m \u001b[1;33m=\u001b[0m \u001b[0msoup\u001b[0m\u001b[1;33m.\u001b[0m\u001b[0mfind\u001b[0m\u001b[1;33m(\u001b[0m\u001b[1;34m'div'\u001b[0m\u001b[1;33m,\u001b[0m \u001b[0mclass_\u001b[0m\u001b[1;33m=\u001b[0m\u001b[1;34m'a-section askQuestionListPage'\u001b[0m\u001b[1;33m)\u001b[0m\u001b[1;33m.\u001b[0m\u001b[0mfind\u001b[0m\u001b[1;33m(\u001b[0m\u001b[1;34m'div'\u001b[0m\u001b[1;33m,\u001b[0m \u001b[0mclass_\u001b[0m\u001b[1;33m=\u001b[0m\u001b[1;34m'a-section askTeaserQuestions'\u001b[0m\u001b[1;33m)\u001b[0m\u001b[1;33m.\u001b[0m\u001b[0mfind_all\u001b[0m\u001b[1;33m(\u001b[0m\u001b[1;34m'div'\u001b[0m\u001b[1;33m,\u001b[0m \u001b[0mclass_\u001b[0m\u001b[1;33m=\u001b[0m\u001b[1;34m'a-fixed-left-grid a-spacing-base'\u001b[0m\u001b[1;33m)\u001b[0m\u001b[1;33m\u001b[0m\u001b[1;33m\u001b[0m\u001b[0m\n\u001b[0m\u001b[0;32m     14\u001b[0m \u001b[1;33m\u001b[0m\u001b[0m\n\u001b[0;32m     15\u001b[0m     \u001b[1;32mfor\u001b[0m \u001b[0mj\u001b[0m \u001b[1;32min\u001b[0m \u001b[0mrange\u001b[0m\u001b[1;33m(\u001b[0m\u001b[1;36m0\u001b[0m\u001b[1;33m,\u001b[0m\u001b[1;36m20\u001b[0m\u001b[1;33m,\u001b[0m\u001b[1;36m2\u001b[0m\u001b[1;33m)\u001b[0m\u001b[1;33m:\u001b[0m\u001b[1;33m\u001b[0m\u001b[1;33m\u001b[0m\u001b[0m\n",
      "\u001b[1;31mAttributeError\u001b[0m: 'NoneType' object has no attribute 'find'"
     ]
    }
   ],
   "source": [
    "questions = []\n",
    "url = 'https://www.amazon.com/ask/questions/asin/B019CD4ZDS/1/ref=ask_ql_psf_ql_hza?isAnswered=true'\n",
    "\n",
    "headers = {\n",
    "    'User-Agent': 'Mozilla/5.0 (Windows NT 6.3; Win64; x64) AppleWebKit/537.36 (KHTML, like Gecko) Chrome/54.0.2840.71 Safari/537.36'\n",
    "}\n",
    "for i in range(12):\n",
    "    page = 'https://www.amazon.com/ask/questions/asin/B019CD4ZDS/' + str(i+1) +'/ref=ask_ql_psf_ql_hza?isAnswered=true'\n",
    "    url_requests = requests.get(page, headers=hdr)\n",
    "    soup = BeautifulSoup(url_requests.text,'html.parser')\n",
    "    print(i)\n",
    "    time.sleep(1)\n",
    "    qa = soup.find('div', class_='a-section askQuestionListPage').find('div', class_='a-section askTeaserQuestions').find_all('div', class_='a-fixed-left-grid a-spacing-base')\n",
    "    \n",
    "    for j in range(0,20,2):\n",
    "        questions.append(qa[j].find('div',class_='a-fixed-left-grid-col a-col-right').find('a', class_='a-link-normal').find('span', class_='a-declarative').get_text().strip())\n",
    "    \n",
    "\n",
    "\n",
    "questions\n"
   ]
  },
  {
   "cell_type": "code",
   "execution_count": 82,
   "metadata": {},
   "outputs": [
    {
     "data": {
      "text/plain": [
       "['1. my cat refuses to eat food with the crushed pill,  it tastes bad to her. How do you  get the pill in her?',\n",
       " '2. How quickly does this kill the tapeworms?',\n",
       " '3. I have 2 cats do I have to buy a bottle for each?',\n",
       " '4. Do the bottles not come with a protective seal on them?',\n",
       " '5. Where is this product manufactured?',\n",
       " \"6. how do you know it works? Did the tapeworm dead inside of cats' stomach? would I see the dead tapeworm in cats' poopp?\",\n",
       " '7. Will this kill both tapeworms and roundworms? Or do I need a different pill for each?',\n",
       " '8. How many times should I give the pill to my cat?',\n",
       " '9. difference betweed cat and dog med',\n",
       " '10. Can someone please post a picture of the pill next to say a dime or a baby aspirin or something for comparison?',\n",
       " '11. Any tips on getting a finicky feral to eat this in food? She knooooows!!!!',\n",
       " '12. My cat is appearing to be constipated after using this any advice?',\n",
       " '13. How many times can you use it in what period of time?  Does that include other types of worm medicines too?',\n",
       " '14. When will you restock it. I need it immediately',\n",
       " '15. Are there 5 pills per box as in comments, or 3 pills per box?',\n",
       " '16. Why would you say it would be delivered today, then today tell me not until next week? This is a medication and I wouldn’t have purchased here if I kn',\n",
       " '17. Searously make this item eseyer to cancel amazon?? the cat this was bought for died allreddy i need to canceal it asap!!!',\n",
       " \"18. My indoor cat has worms I don't understand they don't even go outside and we don't have fleas?\",\n",
       " '19. Do the worms appear dead after intake of this pill? Not seeing them anymore doesn’t convince me. If anything, you should see them more, but out dead.',\n",
       " '20. I have around 20 cats and kittens that I am currently fostering. One cat gets outside frequently, has worms. can I get bigger bottle?',\n",
       " '21. Is there Pyrantel  pamoate in this product?',\n",
       " '22. Does this kill tapeworm at all life stages in the cat?',\n",
       " \"23. Why isn't this medication available as a topical application? Do you have any idea how difficult it is to get a pill down a cat's throat?\",\n",
       " '24. Does this kill flea tape worms for cats',\n",
       " '25. does this brand has a treatment for all type of worms?',\n",
       " '26. Does the medicine come in a liquid form?',\n",
       " '27. Is this product just for tapeworms?  Or does this work on tape/hook and round also?',\n",
       " '28. So how fast will it kill ?',\n",
       " '29. Does it kill the eggs too?',\n",
       " '30. Does this kill all worms that may be infecting your cat?',\n",
       " '31. Does this work for cat fleas?',\n",
       " '32. you have any with a larger quantity of pills?',\n",
       " '33. Labeling states it removes tapeworms. Does it actually kill the tapeworms?',\n",
       " '34. Why have My cats have been drooling since getting the product',\n",
       " '35. How many tablets per box?',\n",
       " '36. Are there cat dewormers for more than one type of worms?',\n",
       " '37. is there not a version where there are more than 3 pills?',\n",
       " '38. do these pills kill fleas also?',\n",
       " '39. How soon in your experience did the potbelly/bloated stomach disappear?',\n",
       " \"40. I have already ordered a natural broad spectrum dewormer. If it isn't helping is it OK to give prazquantel immediately?\",\n",
       " '41. How do I tell if my cat has tapeworms or ringworms? I see little white wiggly worms near my cats butt sometimes',\n",
       " '42. Does this product work for Hookworms?',\n",
       " '43. How long are they good for ?',\n",
       " '44. what are the ingredients?',\n",
       " '45. Will this kill other worms as well?',\n",
       " '46. is this safe for pregnant cats?',\n",
       " '47. Will one tablet get rid of the or do they need multiple treatments ?',\n",
       " '48. Can you dissolve this in water?',\n",
       " '49. Does this product have any taste too it?',\n",
       " '50. I seen a worm wiggling out of my cats rear end, will this kill those?',\n",
       " '51. Does this work for cat fleas?',\n",
       " '52. How long do these take to work?',\n",
       " '53. Does this ship through usps?',\n",
       " '54. How do you know if this worked and the tapeworm is gone?',\n",
       " '55. How do I stop the monthly deliveries?!',\n",
       " '56. Cat is still leaving behind rice segments. When can I administer the next dose?',\n",
       " '57. How quickly does this work? My poor kitty has them all over her rear and in the litter box.',\n",
       " '58. Why does your product cost $8.00 more than petsmart and walmart?',\n",
       " '59. How often can I use this? Every month?',\n",
       " '60. I have six kittens i want to treat can i break up the pills in there wet food?',\n",
       " '61. Can the tablets be crushed and put in liquid?',\n",
       " '62. How many pills are in the bottle?',\n",
       " '63. Is there a safety liner over the opening under the lid?',\n",
       " '64. Do I need to purchase a syringe to administer?',\n",
       " '65. How do I get my cat to take this ?? She snubbed the food and my other cat swept in and ate it',\n",
       " \"66. If you put the pill in the cat's mouth and gently rub from their chin down to the bottom of their neck they will swallow the pill, anyone try this?\",\n",
       " '67. Cual es la edad correcta para desparacitar los gatitos?',\n",
       " '68. Can this treat roundworms?',\n",
       " '69. Will this work for roundworm?',\n",
       " '70. How quickly does this kill the tapeworms?']"
      ]
     },
     "execution_count": 82,
     "metadata": {},
     "output_type": "execute_result"
    }
   ],
   "source": [
    "for i in range(len(questions)):\n",
    "    questions[i] = str(i+1) + '. ' + questions[i]\n",
    "\n",
    "questions"
   ]
  },
  {
   "cell_type": "code",
   "execution_count": 84,
   "metadata": {},
   "outputs": [],
   "source": [
    "text = open('QA.txt','w')\n",
    "for i in questions:\n",
    "    text.write(i + '\\n')\n",
    "text.close()"
   ]
  },
  {
   "cell_type": "code",
   "execution_count": null,
   "metadata": {},
   "outputs": [],
   "source": []
  }
 ],
 "metadata": {
  "interpreter": {
   "hash": "90028c94590298b63d2bae6c0746a7e76a66c0c12a099857e1fe16e3285a4618"
  },
  "kernelspec": {
   "display_name": "Python 3.9.6 64-bit",
   "name": "python3"
  },
  "language_info": {
   "codemirror_mode": {
    "name": "ipython",
    "version": 3
   },
   "file_extension": ".py",
   "mimetype": "text/x-python",
   "name": "python",
   "nbconvert_exporter": "python",
   "pygments_lexer": "ipython3",
   "version": "3.9.6"
  },
  "orig_nbformat": 4
 },
 "nbformat": 4,
 "nbformat_minor": 2
}
